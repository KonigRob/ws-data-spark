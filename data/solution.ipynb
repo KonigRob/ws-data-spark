{
 "cells": [
  {
   "cell_type": "code",
   "execution_count": 65,
   "id": "b626d968",
   "metadata": {},
   "outputs": [
    {
     "data": {
      "text/plain": [
       "22025"
      ]
     },
     "execution_count": 65,
     "metadata": {},
     "output_type": "execute_result"
    }
   ],
   "source": [
    "import os\n",
    "import math\n",
    "\n",
    "from pyspark.sql import SparkSession\n",
    "from pyspark.sql.functions import col, udf, avg, stddev, max, count, min\n",
    "import pyspark.sql.functions as f\n",
    "from pyspark.sql.types import DoubleType\n",
    "\n",
    "import altair as alt\n",
    "\n",
    "from math import radians, cos, sin, asin, sqrt\n",
    "\n",
    "spark = SparkSession.builder.master('local').getOrCreate()\n",
    "df = spark.read.options(\n",
    "    header='True',\n",
    "    inferSchema='True',\n",
    "    delimiter=',',\n",
    ").csv(os.path.expanduser('~/data/DataSample.csv'))\n",
    "df.count()"
   ]
  },
  {
   "cell_type": "code",
   "execution_count": 66,
   "id": "1646131c",
   "metadata": {},
   "outputs": [
    {
     "data": {
      "text/plain": [
       "19999"
      ]
     },
     "execution_count": 66,
     "metadata": {},
     "output_type": "execute_result"
    }
   ],
   "source": [
    "#since geoinfo isn't actually a column name, I'm pretty sure it's the lat and long for each request\n",
    "\n",
    "# Question 1\n",
    "df1 = df.dropDuplicates([' TimeSt','Latitude','Longitude'])\n",
    "df1.count()"
   ]
  },
  {
   "cell_type": "code",
   "execution_count": 67,
   "id": "7f84ff72",
   "metadata": {},
   "outputs": [],
   "source": [
    "dfPoi = spark.read.options(\n",
    "        header='True',\n",
    "        inferSchema='True',\n",
    "        delimiter=',',\n",
    "    ).csv(os.path.expanduser('~/data/POIList.csv'))"
   ]
  },
  {
   "cell_type": "code",
   "execution_count": 68,
   "id": "bf9934a5",
   "metadata": {},
   "outputs": [],
   "source": [
    "# Apparently one of the points of interest is a duplicate, and the Lat has a whitespace infront of it.  \n",
    "# Also renaming the column names as they're too similar to the datasheets names.\n",
    "dfPoi = dfPoi.dropDuplicates([' Latitude','Longitude'])\n",
    "dfPoi = dfPoi.withColumnRenamed(' Latitude','poiLat').withColumnRenamed('Longitude', 'poiLong')"
   ]
  },
  {
   "cell_type": "code",
   "execution_count": 69,
   "id": "19092e33",
   "metadata": {},
   "outputs": [],
   "source": [
    "# Haversine formula stolen from \n",
    "# https://stackoverflow.com/questions/4913349/haversine-formula-in-python-bearing-and-distance-between-two-gps-points\n",
    "def calcDistance(rLat, rLong, tLat, tLong):\n",
    "    print(rLat)\n",
    "    lon1 = math.radians(rLat)\n",
    "    lat1 = math.radians(rLong)\n",
    "    lon2 = math.radians(tLat)\n",
    "    lat2 = math.radians(tLong)\n",
    "    \n",
    "    dlon = lon2 - lon1\n",
    "    dlat = lat2 - lat1\n",
    "    a = sin(dlat/2)**2 + cos(lat1) * cos(lat2) * sin(dlon/2)**2\n",
    "    c = 2 * asin(sqrt(a))\n",
    "    r = 6371 #Radius of earth in kilometers. Not going to use 3956 for miles since Canada. :>\n",
    "    b = c * r\n",
    "    return b\n",
    "\n",
    "cCalcDistance = udf(lambda a,b,c,d:calcDistance(a,b,c,d))\n",
    "    "
   ]
  },
  {
   "cell_type": "code",
   "execution_count": 70,
   "id": "b84577a6",
   "metadata": {},
   "outputs": [
    {
     "name": "stdout",
     "output_type": "stream",
     "text": [
      "+--------------------+-------+--------+-------------+--------+----------+-----+---------+-----------+-------+------------------+\n",
      "|              TimeSt|Country|Province|         City|Latitude| Longitude|POIID|   poiLat|    poiLong|    _ID|     min(distance)|\n",
      "+--------------------+-------+--------+-------------+--------+----------+-----+---------+-----------+-------+------------------+\n",
      "|2017-06-21 00:22:...|     CA|      ON|    Etobicoke| 43.6381|  -79.5787| POI3|45.521629| -73.566024|5613403| 670.2586351276966|\n",
      "|2017-06-21 00:34:...|     CA|      ON|      Toronto| 43.6606|  -79.4635| POI3|45.521629| -73.566024|5013924| 657.4592243551863|\n",
      "|2017-06-21 00:42:...|     CA|      AB|      Calgary| 51.1188| -113.9471| POI1|53.546167|-113.485734|5122425| 120.0615960353242|\n",
      "|2017-06-21 01:01:...|     CA|      AB|      Calgary| 51.0876| -114.0214| POI1|53.546167|-113.485734|4571908|125.18334295783798|\n",
      "|2017-06-21 01:08:...|     CA|      ON|      Toronto|43.66341| -79.38597| POI3|45.521629| -73.566024|5447065| 648.8678959130891|\n",
      "|2017-06-21 01:22:...|     CA|      AB|     Edmonton| 53.4154| -113.4178| POI1|53.546167|-113.485734|4843104| 9.515724782576191|\n",
      "|2017-06-21 01:36:...|     CA|      AB|      Calgary| 51.0823| -113.9578| POI1|53.546167|-113.485734|5030419|122.06704722894797|\n",
      "|2017-06-21 01:57:...|     CA|      QC|   Sainte-Foy| 46.7823|  -71.2882| POI3|45.521629| -73.566024|5337456| 256.7798515408869|\n",
      "|2017-06-21 02:04:...|     CA|      AB|  Fort Mackay|57.32867|-111.75584| POI1|53.546167|-113.485734|5413296|251.25064195561393|\n",
      "|2017-06-21 02:11:...|     CA|      AB|      Calgary|  50.915|   -114.06| POI1|53.546167|-113.485734|4693076|134.10171094598653|\n",
      "|2017-06-21 02:22:...|     CA|      SK|     Radville|49.37063|-104.29448| POI1|53.546167|-113.485734|4845794| 1032.386097363544|\n",
      "|2017-06-21 02:57:...|     CA|      AB|      Calgary| 51.0486|  -113.968| POI1|53.546167|-113.485734|5329292|123.93621640565625|\n",
      "|2017-06-21 03:02:...|     CA|      AB|      Calgary| 50.9819| -114.1004| POI1|53.546167|-113.485734|4581888|133.79089197617293|\n",
      "|2017-06-21 03:06:...|     CA|      AB|      Calgary|51.05187|-113.94978| POI1|53.546167|-113.485734|5431366|122.90410281238276|\n",
      "|2017-06-21 03:13:...|     CA|      AB|      Calgary|50.90133|-114.08712| POI1|53.546167|-113.485734|5500911|136.15157668956863|\n",
      "|2017-06-21 03:37:...|     CA|      ON|      Toronto| 43.6796|  -79.4343| POI3|45.521629| -73.566024|5060850| 654.1907911397406|\n",
      "|2017-06-21 03:44:...|     CA|      ON|Richmond Hill| 43.8669|  -79.4414| POI3|45.521629| -73.566024|5154104| 654.6561010905008|\n",
      "|2017-06-21 03:48:...|     CA|      ON|    Newmarket| 44.0587|  -79.4591| POI3|45.521629| -73.566024|5203240| 656.3260958345329|\n",
      "|2017-06-21 04:05:...|     CA|      AB|     Edmonton| 53.4311|  -113.519| POI1|53.546167|-113.485734|4623647| 6.302174896333771|\n",
      "|2017-06-21 04:07:...|     CA|      SK|    Saskatoon| 52.1218|  -106.645| POI1|53.546167|-113.485734|5444477| 762.5392453460546|\n",
      "+--------------------+-------+--------+-------------+--------+----------+-----+---------+-----------+-------+------------------+\n",
      "only showing top 20 rows\n",
      "\n"
     ]
    }
   ],
   "source": [
    "# So my first attempt at this one, was to take the data, use a withColumn function to pass it in, along with the\n",
    "# Points of Interest spots, and then compare each poi with the lat and long, and see which is the closest.\n",
    "# But I learned that you can't nest withColumn functions as it looks like they lock the thread to increase the\n",
    "# effeicency for applying the function to the data.  Which means I couldn't use that approach.\n",
    "\n",
    "# So I thought about it, and while this isn't as scalable, it'll do: to apply the lat and long of each request to all the\n",
    "# poi's, then by grouping by their original ID, you can find out which had the lowest distance, and then just grab the\n",
    "# poi number itself.  And then delete the others.\n",
    "\n",
    "# One issue I had was that the udf returns a string for some reason?  Was able to bypass that by using withColumn to apply \n",
    "# all the data to be casted as a DoubleType() and delete the previous column all in one go. (not technical terms, but will do)\n",
    "\n",
    "# Question 2\n",
    "dfPoi = dfPoi.select('POIID',col('poiLat'), col('poiLong'))\n",
    "df1=df1.crossJoin(dfPoi)\n",
    "df1 = df1.withColumn('distance', cCalcDistance(df1['Latitude'],df1['Longitude'], df1['poiLat'], df1['poiLong']))\n",
    "df1 = df1.withColumn('distance', df1['distance'].cast(DoubleType()))\n",
    "\n",
    "tmpDf1 = df1.groupBy('_ID').min('distance')\n",
    "df1=df1.join(tmpDf1,(df1['_ID'] == tmpDf1['_ID']) & (df1['distance'] == tmpDf1['min(distance)'])).drop(tmpDf1._ID)\n",
    "df1=df1.drop('distance')\n",
    "df1.show()\n",
    "\n"
   ]
  },
  {
   "cell_type": "code",
   "execution_count": 71,
   "id": "f4f55639",
   "metadata": {},
   "outputs": [],
   "source": [
    "# df6 = df1.groupBy('POIID')\n",
    "# alt.Chart(df6).mark_circle(\n",
    "#     color='blue',\n",
    "#     opacity=0.3\n",
    "# ).encode(\n",
    "# x='Latitude',\n",
    "# y='Longitude')"
   ]
  },
  {
   "cell_type": "code",
   "execution_count": 72,
   "id": "4603d375",
   "metadata": {},
   "outputs": [
    {
     "name": "stdout",
     "output_type": "stream",
     "text": [
      "+-----+-----------------+------------------+\n",
      "|POIID| Average distance|Standard Deviation|\n",
      "+-----+-----------------+------------------+\n",
      "| POI4|664.0431071829552| 2072.764962751564|\n",
      "| POI1|296.9202099001768| 571.2873049876008|\n",
      "| POI3|590.8752886807175|309.04612101412664|\n",
      "+-----+-----------------+------------------+\n",
      "\n"
     ]
    }
   ],
   "source": [
    "# Question 3 a\n",
    "df3 = df1.groupBy('POIID').agg(avg('min(distance)').alias('Average distance'), stddev('min(distance)').alias('Standard Deviation'))\n",
    "\n",
    "df3.show()\n"
   ]
  },
  {
   "cell_type": "code",
   "execution_count": 73,
   "id": "43eca0e4",
   "metadata": {},
   "outputs": [
    {
     "name": "stdout",
     "output_type": "stream",
     "text": [
      "+-----+------------------+-----+--------------------+\n",
      "|POIID|            Radius|Count|             Density|\n",
      "+-----+------------------+-----+--------------------+\n",
      "| POI4|12784.457896075026|  477|9.289746689640268E-7|\n",
      "| POI1|14376.059009320134| 9704|1.494587073110212...|\n",
      "| POI3| 2210.180854641291| 9818|6.397606583284486E-4|\n",
      "+-----+------------------+-----+--------------------+\n",
      "\n"
     ]
    }
   ],
   "source": [
    "#3 b was not the best for the wording, and I spent many hours on attempting to draw a circle to visualize the data, \n",
    "# that I didn't need to do.  \n",
    "\n",
    "# Question 3 b\n",
    "df3b = df1.groupBy('POIID').agg(max('min(distance)').alias('Radius'), count('min(distance)').alias('Count'))\n",
    "df3b = df3b.withColumn('Density', df3b['Count']/(df3b['Radius']**2*math.pi))\n",
    "df3b.show()"
   ]
  },
  {
   "cell_type": "code",
   "execution_count": 74,
   "id": "8ba218a8",
   "metadata": {},
   "outputs": [
    {
     "name": "stdout",
     "output_type": "stream",
     "text": [
      "0.00010498152119975096\n",
      "+-----+------------------+-----+--------------------+-----------------+\n",
      "|POIID|            Radius|Count|             density|density(adjusted)|\n",
      "+-----+------------------+-----+--------------------+-----------------+\n",
      "| POI4|1183.5582054834815|  462|1.049815211997509...|            -10.0|\n",
      "| POI1|1401.4928282958247| 9386|0.001521069008350...|5.272995535688684|\n",
      "| POI3|1248.9641974323345| 9602|0.001959349230326935|9.999999999999996|\n",
      "+-----+------------------+-----+--------------------+-----------------+\n",
      "\n"
     ]
    }
   ],
   "source": [
    "# So basically I need to get the IQR, then filter the data that falls inside that range\n",
    "# group that data by POIID, and create new columns for radius without the outliers, and see how many there are\n",
    "# Then find the density by deviding the count by the area of the circle\n",
    "\n",
    "# To get the data and rescale it to have the selected min and max ranges, I'll be using \n",
    "# newvalue= (b-a)*(x-minimum)/(maximum-minimum)+a\n",
    "# (taken after some googling from https://stats.stackexchange.com/questions/70801/how-to-normalize-data-to-0-1-range and modifying)\n",
    "# \n",
    "\n",
    "# Question 4 a\n",
    "Q1 = df1.approxQuantile('min(distance)', [0.35], 0.05)\n",
    "Q3 = df1.approxQuantile('min(distance)', [0.65], 0.05)\n",
    "IQR = Q3[0] - Q1[0]\n",
    "lowerRange = Q1[0] - 1.5*IQR\n",
    "upperRange = Q3[0] + 1.5*IQR\n",
    "\n",
    "df4 = df1[(df1['min(distance)'] > lowerRange) & (df1['min(distance)'] < upperRange)].groupBy('POIID').agg(max('min(distance)').alias('Radius'), count('min(distance)').alias('Count'))\n",
    "df4 = df4.withColumn('density', df4['Count']/(df4['Radius']**2*math.pi))\n",
    "\n",
    "# now we use the model formula\n",
    "mini = df4.agg(min('density')).first()[0]\n",
    "maxi = df4.agg(max('density')).first()[0]\n",
    "a = -10\n",
    "b = 10\n",
    "print(mini)\n",
    "df4a = df4.withColumn('density(adjusted)', ((b - a) * (df4['density']-mini)/(maxi-mini)+a))\n",
    "df4a.show()\n",
    "\n"
   ]
  },
  {
   "cell_type": "code",
   "execution_count": null,
   "id": "bb25c40f",
   "metadata": {},
   "outputs": [],
   "source": []
  }
 ],
 "metadata": {
  "kernelspec": {
   "display_name": "Python 3",
   "language": "python",
   "name": "python3"
  },
  "language_info": {
   "codemirror_mode": {
    "name": "ipython",
    "version": 3
   },
   "file_extension": ".py",
   "mimetype": "text/x-python",
   "name": "python",
   "nbconvert_exporter": "python",
   "pygments_lexer": "ipython3",
   "version": "3.9.4"
  }
 },
 "nbformat": 4,
 "nbformat_minor": 5
}
